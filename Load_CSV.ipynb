{
 "cells": [
  {
   "cell_type": "markdown",
   "id": "5345d324",
   "metadata": {},
   "source": [
    "# What comes next?\n",
    "\n",
    "This notebook is here for you to begin your own work on analyzing CSV files. The next couple of cells will do the basics of importing Pandas and MatPlotlib and providing you with a snippet that will open up a CSV file that is on the web. After that point it is up to you to experiment! "
   ]
  },
  {
   "cell_type": "code",
   "execution_count": null,
   "id": "fc1c0c2c",
   "metadata": {},
   "outputs": [],
   "source": [
    "\n",
    "#Import basic Libraries for Data Analysis\n",
    "import pandas as pd\n",
    "import matplotlib.pyplot as plt"
   ]
  },
  {
   "cell_type": "code",
   "execution_count": null,
   "id": "0271b5cb",
   "metadata": {},
   "outputs": [],
   "source": [
    "#Change the URL in the line below to open up the CSV file you want to look at.\n",
    "#By default it is set to the Week 1 dataset\n",
    "\n",
    "# Full SF Circulation Data\n",
    "df = pd.read_csv(\"https://raw.githubusercontent.com/elibtronic/lja_datasets/master/week_2_workalong_san_francisco.csv\")\n",
    "\n",
    "# 5000 DOIs from Cross-Ref\n",
    "#df = pd.read_csv(\"https://raw.githubusercontent.com/elibtronic/lja_datasets/master/week_2_homework_doi.csv\")\n",
    "\n",
    "# SciHub Usage: Toronto v. Montreal\n",
    "#df = pd.read_csv(\"https://raw.githubusercontent.com/elibtronic/lja_datasets/master/week_3_sci_hub_worksheet.csv\")\n",
    "\n",
    "# SciHub Usage: Edmonton v. Montreal\n",
    "#df = pd.read_csv(\"https://raw.githubusercontent.com/elibtronic/lja_datasets/master/week_3_sci_hub_homework.csv\")\n",
    "\n",
    "# SF Circulation data formatted for ML\n",
    "#df = pd.read_csv(\"https://raw.githubusercontent.com/elibtronic/lja_datasets/master/week_4_workalong_san_francisco.csv\")\n",
    "\n",
    "# Top 10% citation data formatted for ML\n",
    "#df = pd.read_csv(\"https://raw.githubusercontent.com/elibtronic/lja_datasets/master/week_4_homework_citation.csv\")\n"
   ]
  },
  {
   "cell_type": "code",
   "execution_count": null,
   "id": "612fac61",
   "metadata": {},
   "outputs": [],
   "source": [
    "#Look at a summary view of the data\n",
    "df.describe()"
   ]
  },
  {
   "cell_type": "code",
   "execution_count": null,
   "id": "4cb3dc6a",
   "metadata": {},
   "outputs": [],
   "source": [
    "#Look at some random records in the data\n",
    "df.sample(10)"
   ]
  }
 ],
 "metadata": {
  "kernelspec": {
   "display_name": "Python 3 (ipykernel)",
   "language": "python",
   "name": "python3"
  },
  "language_info": {
   "codemirror_mode": {
    "name": "ipython",
    "version": 3
   },
   "file_extension": ".py",
   "mimetype": "text/x-python",
   "name": "python",
   "nbconvert_exporter": "python",
   "pygments_lexer": "ipython3",
   "version": "3.9.13"
  }
 },
 "nbformat": 4,
 "nbformat_minor": 5
}
